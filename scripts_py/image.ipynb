{
 "cells": [
  {
   "cell_type": "code",
   "execution_count": 2,
   "metadata": {},
   "outputs": [
    {
     "name": "stdout",
     "output_type": "stream",
     "text": [
      "Extracted Text: File No.T-11014/12/2016-General-\n",
      "\n",
      "T-11014/12/2016-General-|\n",
      "Government of India\n",
      "Ministry of Health & Family Welfare.\n",
      "Deparment of Health & Family Welfare\n",
      "General-I Section\n",
      "\n",
      "NirmanBhawan, New Delhi,\n",
      "Dated the 30/09/2022\n",
      "\n",
      "QEFICE MEMORANDUM\n",
      "\n",
      "Subject: - Personaliprivate vehicles owned by Government employee.\n",
      "In terms of Department of Expenditure’s OM No.18(23)E-Coord.2021 dated\n",
      "\n",
      "2 on the subject mentioned above, private/personal vehicles owned by the\n",
      "\n",
      "¥¢8 shall not be permitted to mention “Government of India” on\n",
      "\n",
      "Digitally Signed by K\n",
      "Venketesan\n",
      "\n",
      "Date: 30-09-2022 11:34:27\n",
      "Reason:\n",
      "\n",
      "roved\n",
      "\"Verikatesan)\n",
      "Under Secretary to the Govt. of India\n",
      "\n",
      "(through eoffice)\n",
      "\n",
      "\n"
     ]
    }
   ],
   "source": [
    "from PIL import Image\n",
    "import pytesseract\n",
    "pytesseract.pytesseract.tesseract_cmd = r'C:\\Program Files\\Tesseract-OCR\\tesseract.exe'\n",
    "image_path = r'C:\\Users\\PARAM\\Desktop\\image.jpeg'\n",
    "image = Image.open(image_path)\n",
    "extracted_text = pytesseract.image_to_string(image)\n",
    "# extracted_text = ' '.join(word for word in extracted_text.split() if word.isalpha())\n",
    "print(\"Extracted Text:\", extracted_text)\n",
    "# from googletrans import Translator\n",
    "# translator = Translator()\n",
    "\n",
    "# # Translate the extracted text to Hindi\n",
    "# translated_text = translator.translate(extracted_text, dest='hi').text\n",
    "\n",
    "# print(\"Translated Text:\", translated_text)"
   ]
  }
 ],
 "metadata": {
  "kernelspec": {
   "display_name": "Python 3",
   "language": "python",
   "name": "python3"
  },
  "language_info": {
   "codemirror_mode": {
    "name": "ipython",
    "version": 3
   },
   "file_extension": ".py",
   "mimetype": "text/x-python",
   "name": "python",
   "nbconvert_exporter": "python",
   "pygments_lexer": "ipython3",
   "version": "3.10.7"
  }
 },
 "nbformat": 4,
 "nbformat_minor": 2
}
