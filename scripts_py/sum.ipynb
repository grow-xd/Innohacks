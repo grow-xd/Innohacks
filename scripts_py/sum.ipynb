{
 "cells": [
  {
   "cell_type": "code",
   "execution_count": 10,
   "metadata": {},
   "outputs": [],
   "source": [
    "from transformers import AutoTokenizer\n",
    "from transformers import AutoModelForSeq2SeqLM, Seq2SeqTrainingArguments, Seq2SeqTrainer\n",
    "import torch"
   ]
  },
  {
   "cell_type": "code",
   "execution_count": 11,
   "metadata": {},
   "outputs": [],
   "source": [
    "checkpoint = \"Jayveersinh-Raj/hindi-summarizer-small\"\n",
    "tokenizer = AutoTokenizer.from_pretrained(checkpoint)\n",
    "model = AutoModelForSeq2SeqLM.from_pretrained(checkpoint)"
   ]
  },
  {
   "cell_type": "code",
   "execution_count": 12,
   "metadata": {},
   "outputs": [],
   "source": [
    "# Input paragraph for summarization\n",
    "input_sentence = \"मुझे याद है, बचपन में जब कोई मुझसे पूछा करता था कि तुम बड़े हो कर क्या बनना चाहते हो, तो मेरा एक ही जवाब होता था, कि मैं बड़ा हो कर policeman बनना चाहता हूँ. उनकी वर्दी, और निडरता मुझे हमेशा ही आकर्षित करती थी. लेकिन जैसे जैसे मैं बड़ा हुआ, मेरी सोच में बदलाव आया, और उसी के साथ बदलाव आया मेरे career goals में. बचपन के बजाय, मेरे goals अब बेहतर तरीके से सोचे और सुलझे हुए थे. लेकिन इतना सोचने के बाद भी मैंने कई ऐसी jobs की, जिनमे मुझे बिलकुल भी interest नहीं आया. काफी समय बाद मैं अपने passion को समझ पाया. मुझे यकीन है कि आप में से भी कई लोग इस दौर से गुज़र रहे होंगे. लेकिन आपको घबराने की बिलकुल भी ज़रुरत नहीं है. अक्सर अपनी dream job को पहचानना थोड़ा मुश्किल हो जाता है, लेकिन एक बार आपने जान लिया, कि आप अपनी ज़िन्दगी में क्या करना चाहते हैं तो कोई आपको नहीं रोक सकता।\""
   ]
  },
  {
   "cell_type": "code",
   "execution_count": 13,
   "metadata": {},
   "outputs": [],
   "source": [
    "# Tokenize the input sentence\n",
    "input_ids = tokenizer.encode(input_sentence, return_tensors=\"pt\")"
   ]
  },
  {
   "cell_type": "code",
   "execution_count": 14,
   "metadata": {},
   "outputs": [],
   "source": [
    "# Generate predictions\n",
    "with torch.no_grad():\n",
    "   output_ids = model.generate(input_ids, max_new_tokens=200)"
   ]
  },
  {
   "cell_type": "code",
   "execution_count": 15,
   "metadata": {},
   "outputs": [],
   "source": [
    "# Decode the generated output\n",
    "output_sentence = tokenizer.decode(output_ids[0], skip_special_tokens=True)"
   ]
  },
  {
   "cell_type": "code",
   "execution_count": 16,
   "metadata": {},
   "outputs": [
    {
     "name": "stdout",
     "output_type": "stream",
     "text": [
      "Input: मुझे याद है, बचपन में जब कोई मुझसे पूछा करता था कि तुम बड़े हो कर क्या बनना चाहते हो, तो मेरा एक ही जवाब होता था, कि मैं बड़ा हो कर policeman बनना चाहता हूँ. उनकी वर्दी, और निडरता मुझे हमेशा ही आकर्षित करती थी. लेकिन जैसे जैसे मैं बड़ा हुआ, मेरी सोच में बदलाव आया, और उसी के साथ बदलाव आया मेरे career goals में. बचपन के बजाय, मेरे goals अब बेहतर तरीके से सोचे और सुलझे हुए थे. लेकिन इतना सोचने के बाद भी मैंने कई ऐसी jobs की, जिनमे मुझे बिलकुल भी interest नहीं आया. काफी समय बाद मैं अपने passion को समझ पाया. मुझे यकीन है कि आप में से भी कई लोग इस दौर से गुज़र रहे होंगे. लेकिन आपको घबराने की बिलकुल भी ज़रुरत नहीं है. अक्सर अपनी dream job को पहचानना थोड़ा मुश्किल हो जाता है, लेकिन एक बार आपने जान लिया, कि आप अपनी ज़िन्दगी में क्या करना चाहते हैं तो कोई आपको नहीं रोक सकता।\n",
      "Summarized: उत्तर के बजाय, मेरे goals अब बेहतर तरीके से सोचे और सुलझे हुए थे. लेकिन इतना सोचने के बाद भी मैंने कई ऐसी jobs की, जिनमे मुझे बिलकुल भी interest नहीं आया.\n"
     ]
    }
   ],
   "source": [
    "# Print the generated output\n",
    "print(\"Input:\", input_sentence)\n",
    "print(\"Summarized:\", output_sentence)"
   ]
  }
 ],
 "metadata": {
  "kernelspec": {
   "display_name": "Python 3",
   "language": "python",
   "name": "python3"
  },
  "language_info": {
   "codemirror_mode": {
    "name": "ipython",
    "version": 3
   },
   "file_extension": ".py",
   "mimetype": "text/x-python",
   "name": "python",
   "nbconvert_exporter": "python",
   "pygments_lexer": "ipython3",
   "version": "3.10.7"
  }
 },
 "nbformat": 4,
 "nbformat_minor": 2
}
